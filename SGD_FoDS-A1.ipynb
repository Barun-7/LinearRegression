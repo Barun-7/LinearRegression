{
 "cells": [
  {
   "cell_type": "code",
   "execution_count": 6,
   "id": "durable-dakota",
   "metadata": {},
   "outputs": [],
   "source": [
    "#importing the libraries\n",
    "\n",
    "import numpy as np\n",
    "import matplotlib.pyplot as plt\n",
    "import pandas as pd"
   ]
  },
  {
   "cell_type": "code",
   "execution_count": 8,
   "id": "ancient-accountability",
   "metadata": {},
   "outputs": [],
   "source": [
    "# reading and shuffling the data\n",
    "\n",
    "df = pd.read_csv(\"FoDS-A1.csv\")\n",
    "df = df.sample(frac = 1)"
   ]
  },
  {
   "cell_type": "code",
   "execution_count": 17,
   "id": "supported-collectible",
   "metadata": {},
   "outputs": [],
   "source": [
    "# normalising the data values\n",
    "\n",
    "myData = (df - df.min()) / (df.max() - df.min())\n",
    "X = myData.iloc[:,:-1]\n",
    "y = myData.iloc[:,-1:]"
   ]
  },
  {
   "cell_type": "code",
   "execution_count": 20,
   "id": "figured-stupid",
   "metadata": {},
   "outputs": [],
   "source": [
    "# splitting the dataset into training data and testing data\n",
    "\n",
    "splitData = int(0.7*len(myData))\n",
    "train_X, test_X, train_y, test_y = X[:splitData], X[splitData:], y[:splitData], y[splitData:]"
   ]
  },
  {
   "cell_type": "code",
   "execution_count": null,
   "id": "elder-bowling",
   "metadata": {},
   "outputs": [],
   "source": []
  }
 ],
 "metadata": {
  "kernelspec": {
   "display_name": "Python 3",
   "language": "python",
   "name": "python3"
  },
  "language_info": {
   "codemirror_mode": {
    "name": "ipython",
    "version": 3
   },
   "file_extension": ".py",
   "mimetype": "text/x-python",
   "name": "python",
   "nbconvert_exporter": "python",
   "pygments_lexer": "ipython3",
   "version": "3.9.1"
  }
 },
 "nbformat": 4,
 "nbformat_minor": 5
}
