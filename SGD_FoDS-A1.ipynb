{
 "cells": [
  {
   "cell_type": "code",
   "execution_count": 1,
   "id": "adequate-default",
   "metadata": {},
   "outputs": [],
   "source": [
    "#importing the libraries\n",
    "\n",
    "import numpy as np\n",
    "import matplotlib.pyplot as plt\n",
    "import pandas as pd"
   ]
  },
  {
   "cell_type": "code",
   "execution_count": 2,
   "id": "irish-violence",
   "metadata": {},
   "outputs": [],
   "source": [
    "# reading and shuffling the data\n",
    "\n",
    "df = pd.read_csv(\"FoDS-A1.csv\")\n",
    "df = df.sample(frac = 1)"
   ]
  },
  {
   "cell_type": "code",
   "execution_count": 3,
   "id": "dated-window",
   "metadata": {},
   "outputs": [],
   "source": [
    "# normalising the data values\n",
    "\n",
    "myData = (df - df.min()) / (df.max() - df.min())\n",
    "X = myData.iloc[:, :-1]\n",
    "y = myData.iloc[:, -1:]"
   ]
  },
  {
   "cell_type": "code",
   "execution_count": 4,
   "id": "tender-projection",
   "metadata": {},
   "outputs": [],
   "source": [
    "# splitting the dataset into training data and testing data\n",
    "\n",
    "splitData = int(0.7 * len(myData))\n",
    "train_X, test_X, train_y, test_y = X[:splitData], X[splitData:], y[:splitData], y[splitData:]\n",
    "coeff_list = np.zeros((10, 11, 11))"
   ]
  },
  {
   "cell_type": "code",
   "execution_count": 5,
   "id": "armed-compression",
   "metadata": {},
   "outputs": [],
   "source": [
    "def stocasticGD(deg, X, y, learning_rate, iterations):\n",
    "    \n",
    "    # assigning random values for weights\n",
    "    \n",
    "    A = np.zeros((deg+1, deg+1))\n",
    "    for m in range(deg+1):\n",
    "            for n in range(deg+1-m):\n",
    "                A[m][n] = np.random.randn()\n",
    "                \n",
    "    for itr in range(iterations):\n",
    "        sumItrError = 0\n",
    "        \n",
    "        for z in range(len(X)):    # for each row in input data\n",
    "            row = X.iloc[z]        # contains strength, temperature\n",
    "            column = y.iloc[z]       # contains pressure\n",
    "            \n",
    "            dotP_wx = 0                # variable for calculating error in each iteration\n",
    "            \n",
    "            for m in range(deg+1):                    # power of x1\n",
    "                for n in range(deg+1-m):            # power of x2\n",
    "                    dotP_wx += A[m][n] * (row[0]**m) * (row[1]**n)    # summation of (w0+ w1*x1 + w2*x1^2 + w3*x1*x2 + w4*x2^2 ...)\n",
    "                    \n",
    "            dotP_wx -= column[0]                    # yn - (w0 + w1*x1 + w2*x1^2 + w3*x1*x2 + w4*x2^2 ...) \n",
    "                \n",
    "             # for each parameter(w0,w1,w2,...)    \n",
    "            for m in range(deg+1):                   # power of x1\n",
    "                for n in range(deg+1-m):           # power of x2\n",
    "                    A[m][n] -= (learning_rate/len(X)) * dotP_wx * (row[0]**m) * (row[1]**n)         # calculating w0,w1,w2,... for each iteration\n",
    "                    \n",
    "            sumItrError +=  (dotP_wx**2)*0.5  \n",
    "            \n",
    "        if(itr == iterations - 1):\n",
    "            print(\"Error of last iteration of degree \", deg, \" :  \" ,sumItrError)\n",
    "            for m in range(deg+1):                   # power of x1\n",
    "                for n in range(deg+1-m):\n",
    "                    coeff_list[deg][m][n] = A[m][n]\n",
    "    return sumItrError\n",
    "\n",
    "#     cost_history = np.zeros(iterations)"
   ]
  },
  {
   "cell_type": "code",
   "execution_count": 6,
   "id": "61c38502",
   "metadata": {},
   "outputs": [],
   "source": [
    "def testing_SGD(deg, X, y, learning_rate, iterations):\n",
    "                \n",
    "    for itr in range(iterations):\n",
    "        sumItrError = 0\n",
    "        \n",
    "        for z in range(len(X)):    # for each row in input data\n",
    "            row = X.iloc[z]              # contains strength, temperature\n",
    "            column = y.iloc[z]       # contains pressure\n",
    "            \n",
    "            dotP_wx = 0                # variable for calculating error in each iteration\n",
    "            \n",
    "            for m in range(deg+1):                    # power of x1\n",
    "                for n in range(deg+1-m):            # power of x2\n",
    "                    dotP_wx += coeff_list[deg][m][n] * (row[0]**m) * (row[1]**n)    # summation of (w0+ w1*x1 + w2*x1^2 + w3*x1*x2 + w4*x2^2 ...)\n",
    "                    \n",
    "            dotP_wx -= column[0]                    # yn - (w0 + w1*x1 + w2*x1^2 + w3*x1*x2 + w4*x2^2 ...)\n",
    "                    \n",
    "            sumItrError +=  (dotP_wx**2)*0.5  \n",
    "            \n",
    "        if(itr == iterations - 1):\n",
    "            print(\"Error of last iteration of degree \", deg, \" :  \" ,sumItrError)\n",
    "            \n",
    "    return sumItrError"
   ]
  },
  {
   "cell_type": "code",
   "execution_count": 7,
   "id": "stylish-simulation",
   "metadata": {},
   "outputs": [
    {
     "name": "stdout",
     "output_type": "stream",
     "text": [
      "Error of last iteration of degree  0  :   67.23766885209122\n",
      "Error of last iteration of degree  1  :   45.40324231646722\n",
      "Error of last iteration of degree  2  :   154.59251510917233\n",
      "Error of last iteration of degree  3  :   36.834035550915644\n",
      "Error of last iteration of degree  4  :   46.28602758018931\n",
      "Error of last iteration of degree  5  :   39.922821084751725\n",
      "Error of last iteration of degree  6  :   66.34893047553454\n",
      "Error of last iteration of degree  7  :   105.97134916795413\n",
      "Error of last iteration of degree  8  :   261.3493054826852\n",
      "Error of last iteration of degree  9  :   99.24269919980952\n",
      "Degree  3  gives minimum error.\n"
     ]
    }
   ],
   "source": [
    "#For training data\n",
    "\n",
    "minError = 100000\n",
    "minErrorDeg = -1\n",
    "for i in range(10):\n",
    "    SGD_Error = stocasticGD(i, train_X, train_y, 0.5, 300)\n",
    "    if(SGD_Error <= minError):\n",
    "        minError = SGD_Error\n",
    "        minErrorDeg = i\n",
    "print(\"Degree \", minErrorDeg, \" gives minimum error.\")      \n"
   ]
  },
  {
   "cell_type": "code",
   "execution_count": 8,
   "id": "greek-twist",
   "metadata": {},
   "outputs": [
    {
     "name": "stdout",
     "output_type": "stream",
     "text": [
      "Error of last iteration of degree  0  :   67.17624459960193\n",
      "Error of last iteration of degree  1  :   44.82977626984849\n",
      "Error of last iteration of degree  2  :   151.33608395840363\n",
      "Error of last iteration of degree  3  :   36.566756097649744\n",
      "Error of last iteration of degree  4  :   45.33509239644873\n",
      "Error of last iteration of degree  5  :   39.415413550765976\n",
      "Error of last iteration of degree  6  :   62.15532153243966\n",
      "Error of last iteration of degree  7  :   103.1002210573007\n",
      "Error of last iteration of degree  8  :   252.79733022047756\n",
      "Error of last iteration of degree  9  :   97.23460250723076\n",
      "Degree  3  gives minimum error.\n"
     ]
    }
   ],
   "source": [
    "# for testing data\n",
    "print(\"Testing error: \", testing_SGD(minErrorDeg, train_X, train_y, 0.5, 300))\n"
   ]
  },
  {
   "cell_type": "code",
   "execution_count": null,
   "id": "close-france",
   "metadata": {},
   "outputs": [],
   "source": []
  },
  {
   "cell_type": "code",
   "execution_count": null,
   "id": "emerging-backup",
   "metadata": {},
   "outputs": [],
   "source": []
  }
 ],
 "metadata": {
  "kernelspec": {
   "display_name": "Python 3 (ipykernel)",
   "language": "python",
   "name": "python3"
  },
  "language_info": {
   "codemirror_mode": {
    "name": "ipython",
    "version": 3
   },
   "file_extension": ".py",
   "mimetype": "text/x-python",
   "name": "python",
   "nbconvert_exporter": "python",
   "pygments_lexer": "ipython3",
   "version": "3.9.7"
  }
 },
 "nbformat": 4,
 "nbformat_minor": 5
}
